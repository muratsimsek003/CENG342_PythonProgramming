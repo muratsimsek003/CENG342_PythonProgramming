{
  "nbformat": 4,
  "nbformat_minor": 0,
  "metadata": {
    "colab": {
      "provenance": []
    },
    "kernelspec": {
      "name": "python3",
      "display_name": "Python 3"
    },
    "language_info": {
      "name": "python"
    }
  },
  "cells": [
    {
      "cell_type": "markdown",
      "source": [
        "# **Enum**"
      ],
      "metadata": {
        "id": "WY3Lk94U7TIX"
      }
    },
    {
      "cell_type": "markdown",
      "source": [
        "In Python, the enum module provides a way to define enumeration types, which are sets of named values. Enumerations are a powerful tool for creating well-defined sets of constants. Here's an example that demonstrates the usage of enums in Python:"
      ],
      "metadata": {
        "id": "jWTHrxFg7e1m"
      }
    },
    {
      "cell_type": "code",
      "source": [
        "from enum import Enum\n",
        "\n",
        "class Color(Enum):\n",
        "    RED = 1\n",
        "    GREEN = 2\n",
        "    BLUE = 3"
      ],
      "metadata": {
        "id": "7urFY0mZ7imc"
      },
      "execution_count": 3,
      "outputs": []
    },
    {
      "cell_type": "code",
      "source": [
        "print(Color.RED)        # Output: Color.RED\n",
        "print(Color.RED.name)   # Output: RED\n",
        "print(Color.RED.value)  # Output: 1"
      ],
      "metadata": {
        "colab": {
          "base_uri": "https://localhost:8080/"
        },
        "id": "dsXvJB6m7qJH",
        "outputId": "072b43e1-a316-482a-9a2c-7d61f98c3511"
      },
      "execution_count": 4,
      "outputs": [
        {
          "output_type": "stream",
          "name": "stdout",
          "text": [
            "Color.RED\n",
            "RED\n",
            "1\n"
          ]
        }
      ]
    },
    {
      "cell_type": "code",
      "source": [
        "print(Color.GREEN)      # Output: Color.GREEN\n",
        "print(Color.GREEN.name) # Output: GREEN\n",
        "print(Color.GREEN.value)# Output: 2"
      ],
      "metadata": {
        "colab": {
          "base_uri": "https://localhost:8080/"
        },
        "id": "R7eyEzVC7sGQ",
        "outputId": "e9e37971-a485-489a-e0e1-d0bb465def20"
      },
      "execution_count": 5,
      "outputs": [
        {
          "output_type": "stream",
          "name": "stdout",
          "text": [
            "Color.GREEN\n",
            "GREEN\n",
            "2\n"
          ]
        }
      ]
    },
    {
      "cell_type": "code",
      "source": [
        "# Iterating over the enum\n",
        "for color in Color:\n",
        "    print(color)"
      ],
      "metadata": {
        "colab": {
          "base_uri": "https://localhost:8080/"
        },
        "id": "9beg6iGp7tfz",
        "outputId": "559aff82-df3f-48a1-9123-5cf94c383d56"
      },
      "execution_count": 6,
      "outputs": [
        {
          "output_type": "stream",
          "name": "stdout",
          "text": [
            "Color.RED\n",
            "Color.GREEN\n",
            "Color.BLUE\n"
          ]
        }
      ]
    },
    {
      "cell_type": "markdown",
      "source": [
        "In this example, we import the Enum class from the enum module. We then define a new enumeration called Color. Inside the Color enum, we define three members: RED, GREEN, and BLUE, each associated with a unique value.\n",
        "\n",
        "We can access the enum members using dot notation. For example, Color.RED refers to the RED member of the Color enum. We can access the name of an enum member using the name attribute (Color.RED.name) and its associated value using the value attribute (Color.RED.value).\n",
        "\n",
        "Enumerations can be iterated over using a for loop, and each iteration will provide the enum members in the order they were defined.\n",
        "\n",
        "Enums provide several benefits, including improved code readability, type safety, and enforced set of valid values. They are particularly useful when you need to represent a fixed set of choices or options in your code, ensuring that only valid values are used."
      ],
      "metadata": {
        "id": "t2KM7Tb774uT"
      }
    },
    {
      "cell_type": "code",
      "source": [
        "from enum import Enum\n",
        "class Color(Enum):\n",
        " red = 1\n",
        " green = 2\n",
        " blue = 3"
      ],
      "metadata": {
        "id": "L8406PZE75kb"
      },
      "execution_count": 7,
      "outputs": []
    },
    {
      "cell_type": "code",
      "source": [
        "print(Color.red) # Color.red "
      ],
      "metadata": {
        "colab": {
          "base_uri": "https://localhost:8080/"
        },
        "id": "ErTZRyfh8CO3",
        "outputId": "2a2e6d1a-be47-4ebd-dd3a-74660e1d59d8"
      },
      "execution_count": 9,
      "outputs": [
        {
          "output_type": "stream",
          "name": "stdout",
          "text": [
            "Color.red\n"
          ]
        }
      ]
    },
    {
      "cell_type": "code",
      "source": [
        "print(Color(1)) # Color.red "
      ],
      "metadata": {
        "colab": {
          "base_uri": "https://localhost:8080/"
        },
        "id": "D5z7AGLv8FYg",
        "outputId": "455cca71-7744-48d6-d0c5-cd90c0aa8614"
      },
      "execution_count": 10,
      "outputs": [
        {
          "output_type": "stream",
          "name": "stdout",
          "text": [
            "Color.red\n"
          ]
        }
      ]
    },
    {
      "cell_type": "code",
      "source": [
        "print(Color['red']) # Color.red "
      ],
      "metadata": {
        "colab": {
          "base_uri": "https://localhost:8080/"
        },
        "id": "5ooBGIZj8HD7",
        "outputId": "f682a338-72a6-422b-801d-e8d291bc736d"
      },
      "execution_count": 11,
      "outputs": [
        {
          "output_type": "stream",
          "name": "stdout",
          "text": [
            "Color.red\n"
          ]
        }
      ]
    },
    {
      "cell_type": "code",
      "source": [
        "class Color(Enum):\n",
        " red = 1\n",
        " green = 2\n",
        " blue = 3\n",
        "[c for c in Color] # [<Color.red: 1>, <Color.green: 2>, <Color.blue: 3>]"
      ],
      "metadata": {
        "colab": {
          "base_uri": "https://localhost:8080/"
        },
        "id": "V5uIEyRr8K3P",
        "outputId": "25c0bcc3-72a8-469e-9da3-2e303dbc70b2"
      },
      "execution_count": 12,
      "outputs": [
        {
          "output_type": "execute_result",
          "data": {
            "text/plain": [
              "[<Color.red: 1>, <Color.green: 2>, <Color.blue: 3>]"
            ]
          },
          "metadata": {},
          "execution_count": 12
        }
      ]
    },
    {
      "cell_type": "code",
      "source": [
        "from enum import Enum, auto\n",
        "\n",
        "class Direction(Enum):\n",
        "    NORTH = auto()\n",
        "    SOUTH = auto()\n",
        "    EAST = auto()\n",
        "    WEST = auto()\n",
        "\n",
        "def move(direction):\n",
        "    if direction == Direction.NORTH:\n",
        "        print(\"Moving north\")\n",
        "    elif direction == Direction.SOUTH:\n",
        "        print(\"Moving south\")\n",
        "    elif direction == Direction.EAST:\n",
        "        print(\"Moving east\")\n",
        "    elif direction == Direction.WEST:\n",
        "        print(\"Moving west\")\n",
        "\n",
        "move(Direction.NORTH)   # Output: Moving north\n",
        "move(Direction.EAST)    # Output: Moving east\n",
        "move(Direction.SOUTH)   # Output: Moving south\n",
        "move(Direction.WEST)    # Output: Moving west\n"
      ],
      "metadata": {
        "colab": {
          "base_uri": "https://localhost:8080/"
        },
        "id": "ZpR16Ggn8v_T",
        "outputId": "5d727b8f-44a3-43bf-eeb6-4ddf844171ed"
      },
      "execution_count": 13,
      "outputs": [
        {
          "output_type": "stream",
          "name": "stdout",
          "text": [
            "Moving north\n",
            "Moving east\n",
            "Moving south\n",
            "Moving west\n"
          ]
        }
      ]
    },
    {
      "cell_type": "markdown",
      "source": [
        "In this example, we define an enumeration called Direction. Instead of explicitly assigning values to the enum members, we use the auto() function from the enum module. This automatically assigns unique, increasing values to each member starting from 1.\n",
        "\n",
        "The move() function takes a direction parameter of type Direction. Inside the function, we use if statements to perform different actions based on the direction passed.\n",
        "\n",
        "When calling the move() function, we pass the enum members from the Direction enum (Direction.NORTH, Direction.EAST, etc.). The function then executes the corresponding action based on the provided direction.\n",
        "\n",
        "Enums provide a clean and concise way to define a set of related values with associated names. They can be easily compared, used in conditional statements, and provide an easy-to-read representation of the enumerated values."
      ],
      "metadata": {
        "id": "p-s9aN6U80gT"
      }
    }
  ]
}