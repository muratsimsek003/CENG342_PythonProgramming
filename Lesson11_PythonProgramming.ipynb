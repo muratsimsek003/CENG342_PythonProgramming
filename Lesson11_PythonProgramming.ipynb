{
  "nbformat": 4,
  "nbformat_minor": 0,
  "metadata": {
    "colab": {
      "provenance": []
    },
    "kernelspec": {
      "name": "python3",
      "display_name": "Python 3"
    },
    "language_info": {
      "name": "python"
    }
  },
  "cells": [
    {
      "cell_type": "markdown",
      "source": [
        "#**Decorators**"
      ],
      "metadata": {
        "id": "YivCV-d9y-Az"
      }
    },
    {
      "cell_type": "markdown",
      "source": [
        "It's time to talk about decorators. And now their key term in Python. And we've actually seen decorators before. Do you remember when we were building classes?\n",
        "I taught you that there was a class method and a static method. And I said, Hey, don't. Don't worry about this. We'll talk about this later.Well, this is now later. Decorators look like this. They have the add sign and then some sort of name following it. But in order for us to fully understand what decorators are, we have to talk about functions in Python and why they're so powerful."
      ],
      "metadata": {
        "id": "gl1Sx2DYyZ7k"
      }
    },
    {
      "cell_type": "markdown",
      "source": [
        "This is the neat thing about Python in Python.Functions are what we call first class citizens.\n",
        "\n",
        "That is, they can be passed around like variables.\n",
        "\n",
        "They can be an argument inside of a function.\n",
        "\n",
        "They act just like, well, variables.\n",
        "\n",
        "Let me show you."
      ],
      "metadata": {
        "id": "t8fVET5lyj8t"
      }
    },
    {
      "cell_type": "code",
      "source": [
        "def hello():\n",
        "  print(\"helloooooo!\")\n",
        "\n",
        "\n",
        "hello()"
      ],
      "metadata": {
        "colab": {
          "base_uri": "https://localhost:8080/"
        },
        "id": "hggG5y6kwr84",
        "outputId": "203e16b8-b01e-4107-a263-e092778fb47b"
      },
      "execution_count": null,
      "outputs": [
        {
          "output_type": "stream",
          "name": "stdout",
          "text": [
            "helloooooo!\n"
          ]
        }
      ]
    },
    {
      "cell_type": "markdown",
      "source": [
        "If I create a hello function, which frankly is completely useless.\n",
        "\n",
        "Because all it does is say hello to.\n",
        "\n",
        "If I do this.\n",
        "\n",
        "Remember I said functions are pretty much just variables in Python.\n",
        "\n",
        "Again, something that is not always the case with all programming languages.\n",
        "\n",
        "So if I wanted to, I can say greet equals two.\n",
        "\n",
        "Hello."
      ],
      "metadata": {
        "id": "xYLtVkojyvSQ"
      }
    },
    {
      "cell_type": "code",
      "source": [
        "greet=hello\n",
        "\n",
        "greet()"
      ],
      "metadata": {
        "colab": {
          "base_uri": "https://localhost:8080/"
        },
        "id": "lzp7HtVNwvDL",
        "outputId": "bf316488-7544-4259-d176-c1e24b44c4b5"
      },
      "execution_count": null,
      "outputs": [
        {
          "output_type": "stream",
          "name": "stdout",
          "text": [
            "helloooooo!\n"
          ]
        }
      ]
    },
    {
      "cell_type": "markdown",
      "source": [
        "So that if I print greet.\n",
        "\n",
        "And I run this.\n",
        "\n",
        "I get.\n",
        "\n",
        "Hello?\n",
        "\n",
        "What if I just pass?\n",
        "\n",
        "Hello?\n",
        "\n",
        "Like this?\n",
        "\n",
        "If I run this.\n",
        "\n",
        "Well, I get the function location in memory, so I would have to use grit like this and run it right.\n",
        "\n",
        "We have to call the hello function.\n",
        "\n",
        "Okay."
      ],
      "metadata": {
        "id": "MSVgGGxGy0xn"
      }
    },
    {
      "cell_type": "code",
      "source": [
        "del hello"
      ],
      "metadata": {
        "id": "VPSO907vxntJ"
      },
      "execution_count": null,
      "outputs": []
    },
    {
      "cell_type": "markdown",
      "source": [
        "What if I say delete?\n",
        "\n",
        "Hello.\n",
        "\n",
        "A keyword in Python that deletes that function.\n",
        "\n",
        "What do you think will happen?\n",
        "\n",
        "Let's see if I run this.\n",
        "\n",
        "Hmm."
      ],
      "metadata": {
        "id": "yAcKdY1cy2P_"
      }
    },
    {
      "cell_type": "code",
      "source": [
        "hello()"
      ],
      "metadata": {
        "colab": {
          "base_uri": "https://localhost:8080/",
          "height": 165
        },
        "id": "TgdzGLU4xuB_",
        "outputId": "b8356e17-5bf9-4d79-d4c8-1ee67864729f"
      },
      "execution_count": null,
      "outputs": [
        {
          "output_type": "error",
          "ename": "NameError",
          "evalue": "ignored",
          "traceback": [
            "\u001b[0;31m---------------------------------------------------------------------------\u001b[0m",
            "\u001b[0;31mNameError\u001b[0m                                 Traceback (most recent call last)",
            "\u001b[0;32m<ipython-input-5-a75d7781aaeb>\u001b[0m in \u001b[0;36m<cell line: 1>\u001b[0;34m()\u001b[0m\n\u001b[0;32m----> 1\u001b[0;31m \u001b[0mhello\u001b[0m\u001b[0;34m(\u001b[0m\u001b[0;34m)\u001b[0m\u001b[0;34m\u001b[0m\u001b[0;34m\u001b[0m\u001b[0m\n\u001b[0m",
            "\u001b[0;31mNameError\u001b[0m: name 'hello' is not defined"
          ]
        }
      ]
    },
    {
      "cell_type": "markdown",
      "source": [
        "Did you expect Grete to still work?\n",
        "\n",
        "The interesting thing about Python is that I create hello and this is now created in memory.\n",
        "\n",
        "When we get to line four, I say, hey, greet is going to point to hello.\n",
        "\n",
        "So hello can still be called down here.\n",
        "\n",
        "I can still say hello.\n",
        "\n",
        "Because hello is the name of the function that points to that location in memory.\n",
        "\n",
        "But when I do delete hello, all it does is say, hey, I'm going to delete this function, this name\n",
        "\n",
        "reference to this function that's in memory.\n",
        "\n",
        "However, because greet a whole nother variable is still pointing to this function.\n",
        "\n",
        "I'm going to delete the hello word.\n",
        "\n",
        "So if I go hello like this?\n",
        "\n",
        "I'm going to get an error name."
      ],
      "metadata": {
        "id": "NRuyGk4Ay6SX"
      }
    },
    {
      "cell_type": "code",
      "source": [
        "greet()"
      ],
      "metadata": {
        "colab": {
          "base_uri": "https://localhost:8080/"
        },
        "id": "G6KqH_Gsxq0P",
        "outputId": "bc51d1a3-34e5-4145-a4e7-20bdf2061ac0"
      },
      "execution_count": null,
      "outputs": [
        {
          "output_type": "stream",
          "name": "stdout",
          "text": [
            "helloooooo!\n"
          ]
        }
      ]
    },
    {
      "cell_type": "code",
      "source": [
        "def hello(func):\n",
        "  func()"
      ],
      "metadata": {
        "id": "J1nx3qmuxxL3"
      },
      "execution_count": null,
      "outputs": []
    },
    {
      "cell_type": "code",
      "source": [
        "def greet():\n",
        "  print(\"still here!\")"
      ],
      "metadata": {
        "id": "OCQUKQGtyJBt"
      },
      "execution_count": null,
      "outputs": []
    },
    {
      "cell_type": "code",
      "source": [
        "hello(greet)"
      ],
      "metadata": {
        "colab": {
          "base_uri": "https://localhost:8080/"
        },
        "id": "vsOCoFw7yNX7",
        "outputId": "4f179ca9-6001-4b1a-bd07-bc064e032697"
      },
      "execution_count": null,
      "outputs": [
        {
          "output_type": "stream",
          "name": "stdout",
          "text": [
            "still here!\n"
          ]
        }
      ]
    },
    {
      "cell_type": "code",
      "source": [
        "a=hello(greet)\n",
        "\n",
        "a"
      ],
      "metadata": {
        "colab": {
          "base_uri": "https://localhost:8080/"
        },
        "id": "G_chVz2TyRRH",
        "outputId": "5296a99d-e831-4850-c722-446959c2ba91"
      },
      "execution_count": null,
      "outputs": [
        {
          "output_type": "stream",
          "name": "stdout",
          "text": [
            "still here!\n"
          ]
        }
      ]
    },
    {
      "cell_type": "markdown",
      "source": [
        "#Higher Order Function HOC"
      ],
      "metadata": {
        "id": "Sx3xRFhJZh54"
      }
    },
    {
      "cell_type": "code",
      "source": [
        "def greet(func):\n",
        "  func()"
      ],
      "metadata": {
        "id": "Zbq9u_cbZl7w"
      },
      "execution_count": null,
      "outputs": []
    },
    {
      "cell_type": "code",
      "source": [
        "def greet2():\n",
        "  def func():\n",
        "    return 5\n",
        "  return func"
      ],
      "metadata": {
        "id": "S0FY8CW7Zws6"
      },
      "execution_count": null,
      "outputs": []
    },
    {
      "cell_type": "code",
      "source": [
        "greet(greet2)"
      ],
      "metadata": {
        "id": "7Bn7v07iaNfj"
      },
      "execution_count": null,
      "outputs": []
    },
    {
      "cell_type": "code",
      "source": [
        "greet2()"
      ],
      "metadata": {
        "colab": {
          "base_uri": "https://localhost:8080/"
        },
        "id": "8GSz5cW0aSlc",
        "outputId": "621522bb-08f8-44b7-f9bf-178a5b608cbe"
      },
      "execution_count": null,
      "outputs": [
        {
          "output_type": "execute_result",
          "data": {
            "text/plain": [
              "<function __main__.greet2.<locals>.func()>"
            ]
          },
          "metadata": {},
          "execution_count": 17
        }
      ]
    },
    {
      "cell_type": "markdown",
      "source": [
        "@decorator"
      ],
      "metadata": {
        "id": "Ws3CcYZOZSt8"
      }
    },
    {
      "cell_type": "code",
      "source": [
        "def hello():\n",
        "  print(\"hello\")\n",
        "\n",
        "def my_decorator(func):\n",
        "  def wrap_func():\n",
        "    print(\"*******\")\n",
        "    func()\n",
        "    print(\"********\")\n",
        "  return wrap_func\n",
        "\n",
        "@my_decorator\n",
        "def hello():\n",
        "  print(\"hellooooo\")\n",
        "\n",
        "hello()"
      ],
      "metadata": {
        "colab": {
          "base_uri": "https://localhost:8080/"
        },
        "id": "7DeMNwZHZOJU",
        "outputId": "0bcc25af-a291-426f-936f-61b6a1396157"
      },
      "execution_count": null,
      "outputs": [
        {
          "output_type": "stream",
          "name": "stdout",
          "text": [
            "*******\n",
            "hellooooo\n",
            "********\n"
          ]
        }
      ]
    },
    {
      "cell_type": "code",
      "source": [
        "@my_decorator\n",
        "def bye():\n",
        "  print(\"see you\")\n",
        "\n",
        "bye()"
      ],
      "metadata": {
        "colab": {
          "base_uri": "https://localhost:8080/"
        },
        "id": "BTdiImAZbPL8",
        "outputId": "440b151d-3130-4ead-b1bc-5bea2f42ec08"
      },
      "execution_count": null,
      "outputs": [
        {
          "output_type": "stream",
          "name": "stdout",
          "text": [
            "*******\n",
            "see you\n",
            "********\n"
          ]
        }
      ]
    },
    {
      "cell_type": "code",
      "source": [
        "hello2=my_decorator(hello)\n",
        "hello2()"
      ],
      "metadata": {
        "colab": {
          "base_uri": "https://localhost:8080/"
        },
        "id": "eBlqZXFQfcwt",
        "outputId": "dbd2d6c7-1739-4cd8-928c-9686147e11e4"
      },
      "execution_count": null,
      "outputs": [
        {
          "output_type": "stream",
          "name": "stdout",
          "text": [
            "*******\n",
            "*******\n",
            "hellooooo\n",
            "********\n",
            "********\n"
          ]
        }
      ]
    },
    {
      "cell_type": "markdown",
      "source": [
        "# Simple Decorator"
      ],
      "metadata": {
        "id": "1NUUSnzXzK3a"
      }
    },
    {
      "cell_type": "markdown",
      "source": [
        "Decorators in Python are powerful and useful tools that take a function or a class and add additional functionality to them. Here are a few examples:"
      ],
      "metadata": {
        "id": "4I9cUh0t3tdn"
      }
    },
    {
      "cell_type": "code",
      "source": [
        "def decorator(func):\n",
        "    def wrapper():\n",
        "        print(\"Fonksiyon çağrıldı.\")\n",
        "        func()\n",
        "        print(\"Fonksiyon tamamlandı.\")\n",
        "    return wrapper"
      ],
      "metadata": {
        "id": "cIChyVfrzO1L"
      },
      "execution_count": null,
      "outputs": []
    },
    {
      "cell_type": "code",
      "source": [
        "@decorator\n",
        "def hello():\n",
        "    print(\"Merhaba, dünya!\")"
      ],
      "metadata": {
        "id": "o67gIkMYzQ9O"
      },
      "execution_count": null,
      "outputs": []
    },
    {
      "cell_type": "code",
      "source": [
        "hello()"
      ],
      "metadata": {
        "colab": {
          "base_uri": "https://localhost:8080/"
        },
        "id": "fsqhreFgzTGH",
        "outputId": "05febe0d-47d0-48be-eb4b-ed751c841617"
      },
      "execution_count": null,
      "outputs": [
        {
          "output_type": "stream",
          "name": "stdout",
          "text": [
            "Fonksiyon çağrıldı.\n",
            "Merhaba, dünya!\n",
            "Fonksiyon tamamlandı.\n"
          ]
        }
      ]
    },
    {
      "cell_type": "markdown",
      "source": [
        "#Decorator with arguments (decorator factory)\n",
        "A decorator takes just one argument: the function to be decorated. There is no way to pass other arguments.\n",
        "But additional arguments are often desired. The trick is then to make a function which takes arbitrary arguments\n",
        "and returns a decorator.\n",
        "\n",
        " Consider this\n",
        "simple decorator function that prints the arguments that the original function receives, then calls it.\n",
        "\n",
        "\n"
      ],
      "metadata": {
        "id": "P4b9dlMO2zuc"
      }
    },
    {
      "cell_type": "code",
      "source": [
        "def decorator(func):\n",
        "    def wrapper(*args, **kwargs):\n",
        "        print(\"Function called.\")\n",
        "        result = func(*args, **kwargs)\n",
        "        print(\"Function completed.\")\n",
        "        return result\n",
        "    return wrapper\n",
        "\n",
        "@decorator\n",
        "def add(a, b):\n",
        "    return a + b\n",
        "\n",
        "result = add(3, 5)\n",
        "print(\"Result:\", result)\n",
        "\n"
      ],
      "metadata": {
        "colab": {
          "base_uri": "https://localhost:8080/"
        },
        "id": "faPWa8rK2nkW",
        "outputId": "29adbebd-6cb0-4cea-d12c-73988ab68f18"
      },
      "execution_count": null,
      "outputs": [
        {
          "output_type": "stream",
          "name": "stdout",
          "text": [
            "Function called.\n",
            "Function completed.\n",
            "Result: 8\n"
          ]
        }
      ]
    },
    {
      "cell_type": "markdown",
      "source": [
        "# Decorator class\n",
        "\n",
        "As mentioned in the introduction, a decorator is a function that can be applied to another function to augment its\n",
        "behavior. The syntactic sugar is equivalent to the following: my_func = decorator(my_func). But what if the\n",
        "decorator was instead a class? The syntax would still work, except that now my_func gets replaced with an instance\n",
        "of the decorator class. If this class implements the __call__() magic method, then it would still be possible to use\n",
        "my_func as if it was a function:\n"
      ],
      "metadata": {
        "id": "o4XGL7YEzXvv"
      }
    },
    {
      "cell_type": "code",
      "source": [
        "class Decorator:\n",
        "    def __init__(self, func):\n",
        "        self.func = func\n",
        "\n",
        "    def __call__(self, *args, **kwargs):\n",
        "        print(\"Function called.\")\n",
        "        result = self.func(*args, **kwargs)\n",
        "        print(\"Function completed.\")\n",
        "        return result\n",
        "\n",
        "@Decorator\n",
        "def multiply(a, b):\n",
        "    return a * b\n",
        "\n",
        "result = multiply(4, 6)\n",
        "print(\"Result:\", result)\n",
        "\n"
      ],
      "metadata": {
        "colab": {
          "base_uri": "https://localhost:8080/"
        },
        "id": "A3fsbmtG3BZ3",
        "outputId": "2d3ca047-363d-4f65-c006-cad9a36c9775"
      },
      "execution_count": null,
      "outputs": [
        {
          "output_type": "stream",
          "name": "stdout",
          "text": [
            "Function called.\n",
            "Function completed.\n",
            "Result: 24\n"
          ]
        }
      ]
    },
    {
      "cell_type": "markdown",
      "source": [
        "In this example, we created a class called Decorator and defined the __call__ method. The __init__ method serves as the constructor for the class and stores the decorated function in self.func. When we create an instance of the class, that instance becomes callable like a function, allowing it to be used as a decorator.\n",
        "\n",
        "Decorators are useful in various scenarios such as automating repetitive tasks, controlling input/output, implementing caching, or performing authorization processes in your code."
      ],
      "metadata": {
        "id": "8-NCGso_4A8S"
      }
    },
    {
      "cell_type": "markdown",
      "source": [
        "# This simplest decorator does nothing to the function being decorated. Such\n",
        "# minimal decorators can occasionally be used as a kind of code markers"
      ],
      "metadata": {
        "id": "UWxR-eEaxsCr"
      }
    },
    {
      "cell_type": "code",
      "source": [
        "#This is the decorator\n",
        "def print_args(func):\n",
        "  def inner_func(*args, **kwargs):\n",
        "    print(args)\n",
        "    print(kwargs)\n",
        "    return func(*args, **kwargs)\n",
        "  return inner_func"
      ],
      "metadata": {
        "id": "7kU02T9CyHxm"
      },
      "execution_count": null,
      "outputs": []
    },
    {
      "cell_type": "code",
      "source": [
        "@print_args\n",
        "def multiply(num_a,num_b):\n",
        "  return num_a*num_b"
      ],
      "metadata": {
        "id": "RDmrHTaVyfMP"
      },
      "execution_count": null,
      "outputs": []
    },
    {
      "cell_type": "code",
      "source": [
        "multiply(3,5)"
      ],
      "metadata": {
        "colab": {
          "base_uri": "https://localhost:8080/"
        },
        "id": "p7ux6X9vynv8",
        "outputId": "b91452c6-d42a-407b-bb28-01f902897608"
      },
      "execution_count": null,
      "outputs": [
        {
          "output_type": "stream",
          "name": "stdout",
          "text": [
            "(3, 5)\n",
            "{}\n"
          ]
        },
        {
          "output_type": "execute_result",
          "data": {
            "text/plain": [
              "15"
            ]
          },
          "metadata": {},
          "execution_count": 8
        }
      ]
    },
    {
      "cell_type": "markdown",
      "source": [
        "#Output:\n",
        "# (3,5) - This is actually the 'args' that the function receives.\n",
        "# {} - This is the 'kwargs', empty because we didn't specify keyword arguments.\n",
        "# 15 - The result of the function."
      ],
      "metadata": {
        "id": "9_2EF3OPytvr"
      }
    },
    {
      "cell_type": "code",
      "source": [
        "# Create an @authenticated decorator that only allows the function to run is user1 has 'valid' set to True:\n",
        "user1 = {\n",
        "    'name': 'Sorna',\n",
        "    'valid': True #changing this will either run or not run the message_friends function.\n",
        "}\n",
        "user2 = {\n",
        "    'name': 'Not Sorna',\n",
        "    'valid': False #changing this will either run or not run the message_friends function.\n",
        "}\n",
        "def authenticated(fn):\n",
        "    def f1(*args, **kwargs):\n",
        "        user = args[0]\n",
        "        if user['valid']:\n",
        "            fn(*args, **kwargs)\n",
        "    return f1\n",
        "@authenticated\n",
        "def message_friends(user):\n",
        "    print('message has been sent')\n",
        "print(\"User 1\")\n",
        "message_friends(user1)\n",
        "print(\"User 2\")\n",
        "message_friends(user2)"
      ],
      "metadata": {
        "id": "X0vIVlf8ytPL",
        "colab": {
          "base_uri": "https://localhost:8080/"
        },
        "outputId": "75391ba6-b1b6-4ed7-f866-d11e2f3cf688"
      },
      "execution_count": 17,
      "outputs": [
        {
          "output_type": "stream",
          "name": "stdout",
          "text": [
            "User 1\n",
            "message has been sent\n",
            "User 2\n"
          ]
        }
      ]
    },
    {
      "cell_type": "code",
      "source": [
        "def authenticated(fn):\n",
        "  def wrapper(*args, **kwargs):\n",
        "    if args[0]['valid']==True:\n",
        "      return fn(args)\n",
        "    else:\n",
        "      print('You are not authenticated')\n",
        "  return wrapper\n",
        "\n",
        "@authenticated\n",
        "def message_friends(user):\n",
        "  print('message has been sent')\n"
      ],
      "metadata": {
        "id": "HyworbKW9L3X"
      },
      "execution_count": 25,
      "outputs": []
    },
    {
      "cell_type": "code",
      "source": [
        "user1 = {\n",
        "'name': 'Murat',\n",
        "'valid': True\n",
        "}"
      ],
      "metadata": {
        "id": "VIjLnpd0-R2I"
      },
      "execution_count": 26,
      "outputs": []
    },
    {
      "cell_type": "code",
      "source": [
        "user2={\n",
        "  \"name\":\"Simsek\",\n",
        "  \"valid\": False    \n",
        "}"
      ],
      "metadata": {
        "id": "bi1b3pH1-Xbn"
      },
      "execution_count": 28,
      "outputs": []
    },
    {
      "cell_type": "code",
      "source": [
        "message_friends(user2)"
      ],
      "metadata": {
        "colab": {
          "base_uri": "https://localhost:8080/"
        },
        "id": "ajZCNVzX-VM7",
        "outputId": "82649206-0d26-4df6-91f8-42351ed498b0"
      },
      "execution_count": 29,
      "outputs": [
        {
          "output_type": "stream",
          "name": "stdout",
          "text": [
            "You are not authenticated\n"
          ]
        }
      ]
    }
  ]
}